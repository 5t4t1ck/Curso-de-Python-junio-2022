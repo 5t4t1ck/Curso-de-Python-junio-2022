{
  "cells": [
    {
      "cell_type": "raw",
      "metadata": {},
      "source": [
        "---\n",
        "title: \"Intro Python\"\n",
        "subtitle: \"REPL, operaciones matemáticas, Comentarios, Variables, Más de una Variable, Concatenación\"\n",
        "date: \"today\"\n",
        "author: \"Lic. Diego Medardo Saavedra García Mg. Sc.\"\n",
        "lang: \"es\"\n",
        "format:\n",
        "  revealjs:\n",
        "    toc: true\n",
        "    incremental: true\n",
        "    slide-number: true\n",
        "    preview-links: auto\n",
        "    logo: img/favicon-50x56.png\n",
        "    css: styles.css\n",
        "    footer: <https://abacom.edu.ec>\n",
        "    theme: dark\n",
        "    makeindex: true\n",
        "    multiplex: true\n",
        "    transition: fade\n",
        "    chalkboard: false #Pizarra\n",
        "    auto-stretch: false\n",
        "    scrollable: true\n",
        "  #html: \n",
        "    #code-fold: true\n",
        "    #html-math-method: katex\n",
        "    #multiplex: true\n",
        "    #transition: fade\n",
        "    #auto-stretch: false\n",
        "editor: visual\n",
        "execute: \n",
        "  echo: true\n",
        "    \n",
        "bibliography: Bibliografia.bib\n",
        "csl: \"https://raw.githubusercontent.com/citation-style-language/styles/master/apa.csl\"\n",
        "---"
      ],
      "id": "83c42c2d"
    },
    {
      "cell_type": "markdown",
      "metadata": {},
      "source": [
        "# Generalidades\n",
        "\n",
        "## Instalación\n",
        "\n",
        "Para realizar la instalación de Python es necesario tener en cuenta que existen algunas opciones.\n",
        "\n",
        "En los sistemas operativos de la empresa Microsoft.\n",
        "\n",
        "1.  Descarga e Instalación desde la página oficial.\n",
        "2.  Descarga e Instalación desde la Tienda de Microsoft [@noauthor_4_nodate]\n",
        "3.  Existen otras alternativas para el uso de Python.\n",
        "\n",
        "## REPL - Python Interactive Shell\n",
        "\n",
        "### ¿Qué es REPL?\n",
        "\n",
        "Básicamente es el shell de python, un shell interactivo, el acrónimo REPL significa la abreviatura de: **R**ead, **E**val, **P**rint y **L**oop.\n",
        "\n",
        "Este interprete se puede utilizar para comprobar de una forma sencilla algunos comando de Python. Para iniciar el interprete es necesario tecla el comando **python3** en una terminal (Gnu/Linux o Mac) o **python** en una consola según [@repl-p]\n",
        "\n",
        "El proceso que se utiliza es el siguiente.\n",
        "\n",
        "1.  **Read**: Toma la entrada del usuario (input).\n",
        "2.  **Eval**: Evalúa la entrada (input).\n",
        "3.  **Print**: Muestra la salida del usuario (output).\n",
        "4.  **Loop**: Repite el proceso.\n",
        "\n",
        "## Un poco de matemáticas.\n",
        "\n",
        "Con python es posible el desarrollo de operaciones matemáticas de forma sencilla, a continuación algunos ejemplos.\n",
        "\n",
        "**Suma:**\n"
      ],
      "id": "213f7e3e"
    },
    {
      "cell_type": "code",
      "metadata": {},
      "source": [
        "2+2"
      ],
      "id": "19933318",
      "execution_count": null,
      "outputs": []
    },
    {
      "cell_type": "markdown",
      "metadata": {},
      "source": [
        "**Resta:**\n"
      ],
      "id": "24f814a2"
    },
    {
      "cell_type": "code",
      "metadata": {},
      "source": [
        "4-2"
      ],
      "id": "80354db5",
      "execution_count": null,
      "outputs": []
    },
    {
      "cell_type": "markdown",
      "metadata": {},
      "source": [
        "**Multiplicación**\n"
      ],
      "id": "dd1339e3"
    },
    {
      "cell_type": "code",
      "metadata": {},
      "source": [
        "4*2"
      ],
      "id": "8881ecf6",
      "execution_count": null,
      "outputs": []
    },
    {
      "cell_type": "markdown",
      "metadata": {},
      "source": [
        "**División:**\n"
      ],
      "id": "b4f6f3d7"
    },
    {
      "cell_type": "code",
      "metadata": {},
      "source": [
        "4/2"
      ],
      "id": "97848220",
      "execution_count": null,
      "outputs": []
    },
    {
      "cell_type": "markdown",
      "metadata": {},
      "source": [
        "**División Exacta:**\n"
      ],
      "id": "74383cbe"
    },
    {
      "cell_type": "code",
      "metadata": {},
      "source": [
        "4//2"
      ],
      "id": "ebb98b39",
      "execution_count": null,
      "outputs": []
    },
    {
      "cell_type": "markdown",
      "metadata": {},
      "source": [
        "**Módulo:**\n"
      ],
      "id": "d10c2298"
    },
    {
      "cell_type": "code",
      "metadata": {},
      "source": [
        "4%2"
      ],
      "id": "147c62d5",
      "execution_count": null,
      "outputs": []
    },
    {
      "cell_type": "markdown",
      "metadata": {},
      "source": [
        "**Potenciación:**\n"
      ],
      "id": "11cb82df"
    },
    {
      "cell_type": "code",
      "metadata": {},
      "source": [
        "4**2"
      ],
      "id": "875962d3",
      "execution_count": null,
      "outputs": []
    },
    {
      "cell_type": "markdown",
      "metadata": {},
      "source": [
        "## Comentarios.\n",
        "\n",
        "Una buena práctica es el uso de comentarios para nosotros mismos o para otras personas.\n",
        "\n",
        "Existe una frase que dice \"Los buenos programadores crean código que pueden leer los humanos\", (Anónimo).\n",
        "\n",
        "Aunque la ejecución de código permite obtener una solución a un problema (bug) o la complementación de un feacture (características, funcionalidad), la mayor parte del tiempo los programadores **no escriben código**, y esto se debe a las **malas prácticas** de escritura de código.\n",
        "\n",
        "**Clean Code** como menciona [@anaya2018] brinda las bases necesarias para tener que escribir código una sola vez, y sea fácil de mantener, así se puede dedicar tiempo a la creación de nuevos features o utilizar nuestro tiempo en otro tipo de actividades.\n",
        "\n",
        "Una buena práctica es el uso de comentarios para nosotros mismos o para otras personas.\n",
        "\n",
        "Existe una frase que dice \"Los buenos programadores crean código que pueden leer los humanos\", (Anónimo).\n",
        "\n",
        "Aunque la ejecución de código permite obtener una solución a un problema (bug) o la complementación de un feacture (características, funcionalidad), la mayor parte del tiempo los programadores no escriben código, y esto se debe a las malas prácticas de escritura de código.\n",
        "\n",
        "## Formas de escribir comentarios.\n",
        "\n",
        "-   Comentarios de media línea.\n",
        "\n",
        "-   Comentarios de una línea.\n",
        "\n",
        "-   Comentarios de varias líneas.\n",
        "\n",
        "## Variables\n",
        "\n",
        "Existen distintas formas de escribir variables, solo se debe tomar en cuenta algunos parámetros básicos para no tener inconvenientes.\n",
        "\n",
        "### Qué **no** se debe hacer.\n",
        "\n",
        "-   No escribir variables que empiecen con números.\n",
        "\n",
        "-   No utilizar palabras reservadas.\n",
        "\n",
        "-   No escribir variables de más de una palabra separadas\n",
        "\n",
        "### Qué se debe hacer.\n",
        "\n",
        "-   Escribir variables que tengan sentido.\n",
        "\n",
        "-   Escribir variables que empiecen con un \"\\_\"\n",
        "\n",
        "-   Separar variables con un \"\\_\".\n",
        "\n",
        "-   Utilizar Camel Case .\n",
        "\n",
        "## Ejemplos\n",
        "\n",
        "Mal\n"
      ],
      "id": "4d0efa4d"
    },
    {
      "cell_type": "code",
      "metadata": {},
      "source": [
        "a = \"Diego Saavedra\"\n",
        "print(a) #Imprime el valor que se almacena en la variable a"
      ],
      "id": "e712916f",
      "execution_count": null,
      "outputs": []
    },
    {
      "cell_type": "markdown",
      "metadata": {},
      "source": [
        "Bien\n"
      ],
      "id": "4d3fe701"
    },
    {
      "cell_type": "code",
      "metadata": {},
      "source": [
        "nombre = \"Diego Saavedra\" \n",
        "print(nombre) #Imprime el valor que se almacena en la variable nombre"
      ],
      "id": "1ce2ed44",
      "execution_count": null,
      "outputs": []
    },
    {
      "cell_type": "markdown",
      "metadata": {},
      "source": [
        "Se recomienda utilizar nombres de variables que hagan sentido a lo que se programa.\n",
        "\n",
        "Ejemplos de Variables.\n"
      ],
      "id": "da458f20"
    },
    {
      "cell_type": "code",
      "metadata": {},
      "source": [
        "correo = \"dsaavedra88@gmail.com\" #String\n",
        "print(correo) #Imprime el valor que se almacena en la variable correo\n",
        "\n",
        "número = 5 #Int\n",
        "print(número) #Imprime el valor que se almacena en la variable número\n",
        "\n",
        "nacido_vivo = True #Boolean\n",
        "print(nacido_vivo) #Imprime el varlor que se almacena en nacido_vivo\n",
        "\n",
        "notaFinal = 10.0 #Float\n",
        "print(notaFinal) #Imprime el varlor que se almacena en notaFinal\n",
        "\n",
        "complejo = 1j #Complex\n",
        "print(complejo) #Imprime el varlor que se almacena en complejo"
      ],
      "id": "03853aac",
      "execution_count": null,
      "outputs": []
    },
    {
      "cell_type": "markdown",
      "metadata": {},
      "source": [
        "## Más de una Variable.\n",
        "\n",
        "Es posible programar más de una variable en una sola línea de código.\n",
        "\n",
        "Ejemplo.\n"
      ],
      "id": "d29f7522"
    },
    {
      "cell_type": "code",
      "metadata": {},
      "source": [
        "nombre, apellido, teléfono = \"Diego\", \"Saavedra\", \"+593992018216\"\n",
        "print(nombre, apellido, teléfono)\n",
        "\n",
        "valorInicial = valorMedio = valorFinal = 10\n",
        "print(valorInicial, valorMedio, valorFinal)"
      ],
      "id": "6f3bb039",
      "execution_count": null,
      "outputs": []
    },
    {
      "cell_type": "markdown",
      "metadata": {},
      "source": [
        "## Concatenación de Variables.\n",
        "\n",
        "Una posibilidad al programar en Python es unir (concatenar) más de un resultado en una salida después de un proceso.\n",
        "\n",
        "Ejemplo:\n"
      ],
      "id": "c4dffca0"
    },
    {
      "cell_type": "code",
      "metadata": {},
      "source": [
        "inicio = \"Bienvenidos\"\n",
        "final = \"al curso de Python en Abacom\"\n",
        "\n",
        "print(inicio + final) #No se recomienda\n",
        "print(inicio + \" \" + final) #Se recomienda\n",
        "print(inicio, final) #Se recomienda"
      ],
      "id": "0ec20f32",
      "execution_count": null,
      "outputs": []
    },
    {
      "cell_type": "markdown",
      "metadata": {},
      "source": [
        "## Referencias Bibliográficas."
      ],
      "id": "596bf74d"
    }
  ],
  "metadata": {
    "kernelspec": {
      "display_name": "Python 3",
      "language": "python",
      "name": "python3"
    }
  },
  "nbformat": 4,
  "nbformat_minor": 5
}